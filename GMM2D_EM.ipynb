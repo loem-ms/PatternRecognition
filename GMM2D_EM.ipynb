{
 "cells": [
  {
   "cell_type": "code",
   "execution_count": 1,
   "metadata": {},
   "outputs": [],
   "source": [
    "import numpy as np\n",
    "import random\n",
    "from scipy.interpolate import griddata\n",
    "from scipy.stats import multivariate_normal\n",
    "import numpy.ma as ma\n",
    "from numpy.random import uniform, seed\n",
    "from matplotlib import cm\n",
    "from scipy.special import softmax\n",
    "import matplotlib.pyplot as plt\n",
    "%matplotlib inline"
   ]
  },
  {
   "cell_type": "code",
   "execution_count": 2,
   "metadata": {},
   "outputs": [],
   "source": [
    "n1=150; n2=250; n3=300\n",
    "n = n1+n2+n3\n",
    "x = []\n",
    "x.append(np.dot(np.random.randn(n1,2),np.sqrt(np.diag([1,4]))))\n",
    "x.append(np.random.randn(n2,2)+np.dot(np.asarray([[1.]*n2]).T,np.asarray([[8.0,4.0]])))\n",
    "x.append(np.dot(np.random.randn(n3,2),np.sqrt(np.asarray([[2.45,1],[1,4]])))+16.0)"
   ]
  },
  {
   "cell_type": "code",
   "execution_count": 3,
   "metadata": {},
   "outputs": [
    {
     "name": "stdout",
     "output_type": "stream",
     "text": [
      "(700, 2)\n"
     ]
    }
   ],
   "source": [
    "X = np.concatenate((x[0],x[1],x[2]),axis=0)\n",
    "print(X.shape)"
   ]
  },
  {
   "cell_type": "code",
   "execution_count": 4,
   "metadata": {
    "scrolled": true
   },
   "outputs": [
    {
     "name": "stdout",
     "output_type": "stream",
     "text": [
      "[[[1.   0.  ]\n",
      "  [0.   4.  ]]\n",
      "\n",
      " [[1.   0.  ]\n",
      "  [0.   1.  ]]\n",
      "\n",
      " [[2.45 3.  ]\n",
      "  [3.   4.  ]]]\n",
      "[[ 0  0]\n",
      " [ 8  4]\n",
      " [16 16]]\n"
     ]
    }
   ],
   "source": [
    "Sigma_true = np.asarray([[[1,0],[0,4]],[[1,0],[0,1]],[[2.45,3],[3,4]]])\n",
    "Mu_true = np.asarray([[0,0],[8,4],[16,16]])\n",
    "print(Sigma_true)\n",
    "print(Mu_true)"
   ]
  },
  {
   "cell_type": "code",
   "execution_count": 5,
   "metadata": {},
   "outputs": [],
   "source": [
    "def gauss(x,sigma,mu):\n",
    "    n = multivariate_normal(mu,sigma)\n",
    "    return n.pdf(x)"
   ]
  },
  {
   "cell_type": "code",
   "execution_count": 27,
   "metadata": {},
   "outputs": [],
   "source": [
    "def plot_countour(sigma,mu):\n",
    "    xy_range = np.zeros((2,2))\n",
    "    xy_range[0] = np.linspace(mu[0]-2*sigma[0,0],mu[0]+2*sigma[0,0],2)\n",
    "    xy_range[1] = np.linspace(mu[1]-2*sigma[1,1],mu[1]+2*sigma[1,1],2)\n",
    "    x, y = np.mgrid[xy_range[0][0]:xy_range[0][1]:.01, xy_range[1][0]:xy_range[1][1]:.01]\n",
    "    pos = np.dstack((x, y))\n",
    "    rv = multivariate_normal(mu, sigma)\n",
    "    z = rv.pdf(pos)\n",
    "    levels = np.linspace(np.min(z),np.max(z),5)\n",
    "    plt.contour(x, y, z,linewidths=1.0,colors='black',levels=levels)\n",
    "    #plt.contourf(x,y,z,15,cmap=plt.cm.jet)\n",
    "    plt.xlim([-5,25])\n",
    "    \n",
    "def plot_countour_mixed(Sigma,Mu,W):\n",
    "    x, y = np.mgrid[-5:25:.01, -5:25:.01]\n",
    "    pos = np.dstack((x, y))\n",
    "    z = np.zeros((3000,3000))\n",
    "    print(z.shape)\n",
    "    print(len(W))\n",
    "    for k in range(len(W)):\n",
    "        print(W[k])\n",
    "        sigma = Sigma[k]; mu = Mu[k]\n",
    "        rv = multivariate_normal(mu, sigma)\n",
    "        ztmp = rv.pdf(pos)\n",
    "        z += W[k]*ztmp\n",
    "    print(z.shape)\n",
    "    #levels = np.linspace(np.min(z),np.max(z),5)\n",
    "    plt.contour(x, y, z,linewidths=1.0,colors='black')\n",
    "    #plt.contourf(x,y,z,15,cmap=plt.cm.jet)\n",
    "    plt.xlim([-5,25])"
   ]
  },
  {
   "cell_type": "code",
   "execution_count": 32,
   "metadata": {},
   "outputs": [
    {
     "data": {
      "image/png": "[encoded data removed]",
      "text/plain": [
       "<Figure size 432x288 with 1 Axes>"
      ]
     },
     "metadata": {
      "needs_background": "light"
     },
     "output_type": "display_data"
    }
   ],
   "source": [
    "\n",
    "plot_countour(sigma=Sigma_true[0], mu=Mu_true[0])\n",
    "plot_countour(sigma=Sigma_true[1], mu=Mu_true[1])\n",
    "plot_countour(sigma=Sigma_true[2], mu=Mu_true[2])\n",
    "#plot_countour_mixed(Sigma=Sigma_true,Mu=Mu_true,W=[3/14,5/8,3/7])\n",
    "\n",
    "plt.scatter(x[0][:,0],x[0][:,1],c='green')\n",
    "plt.scatter(x[1][:,0],x[1][:,1],c='red')\n",
    "plt.scatter(x[2][:,0],x[2][:,1],c='blue')\n",
    "\n",
    "plt.title(\"True\")\n",
    "plt.show()"
   ]
  },
  {
   "cell_type": "code",
   "execution_count": 30,
   "metadata": {},
   "outputs": [],
   "source": [
    "def genSigma():\n",
    "    A = np.random.rand(2,2)+np.eye(2,2)\n",
    "    #A = np.eye(2,2)*np.random.rand(1)\n",
    "    S = np.dot(A.T,A)\n",
    "    #S = np.diag(np.diag(S))\n",
    "    return S\n",
    "\n",
    "def genMu(m):\n",
    "    mu = np.zeros((2,m))\n",
    "    mu[0] = np.linspace(np.min(X,axis=0)[0],np.max(X,axis=0)[0],m)\n",
    "    mu[1] = np.linspace(np.min(X,axis=0)[1],np.max(X,axis=0)[1],m)\n",
    "    return mu.T"
   ]
  },
  {
   "cell_type": "code",
   "execution_count": 31,
   "metadata": {
    "scrolled": false
   },
   "outputs": [
    {
     "name": "stdout",
     "output_type": "stream",
     "text": [
      "====== m = 2 ======\n",
      "iter# 1  Lnew: -18005.556981873437\n",
      "iter# 2  Lnew: -3522.667611294477\n",
      "iter# 3  Lnew: -3498.9206066380907\n",
      "iter# 4  Lnew: -3458.8691161212287\n",
      "iter# 5  Lnew: -3409.482750060086\n",
      "iter# 6  Lnew: -3404.677283137214\n",
      "iter# 7  Lnew: -3404.6606941023497\n",
      "iter# 8  Lnew: -3404.660423618946\n",
      "Model Converged\n"
     ]
    },
    {
     "data": {
      "image/png": "[encoded data removed]",
      "text/plain": [
       "<Figure size 432x288 with 1 Axes>"
      ]
     },
     "metadata": {
      "needs_background": "light"
     },
     "output_type": "display_data"
    },
    {
     "data": {
      "image/png": "[encoded data removed]",
      "text/plain": [
       "<Figure size 432x288 with 1 Axes>"
      ]
     },
     "metadata": {
      "needs_background": "light"
     },
     "output_type": "display_data"
    },
    {
     "name": "stdout",
     "output_type": "stream",
     "text": [
      "Sigma\n",
      "[[16.10079224  7.74633654]\n",
      " [ 7.74633654  6.09328765]]\n",
      "[[3.13239714 3.2335943 ]\n",
      " [3.2335943  4.66323885]]\n",
      "Mu\n",
      "[5.04848269 2.50598873]\n",
      "[16.09760861 16.0342747 ]\n",
      "W\n",
      "0.5723387607280941\n",
      "0.4276612392719058\n",
      "====== m = 3 ======\n",
      "iter# 1  Lnew: -5657.621510869707\n",
      "iter# 2  Lnew: -3409.931567959705\n",
      "iter# 3  Lnew: -3336.7052339996885\n",
      "iter# 4  Lnew: -3297.4360915709076\n",
      "iter# 5  Lnew: -3233.332113585667\n",
      "iter# 6  Lnew: -3135.7986308014374\n",
      "iter# 7  Lnew: -3064.185539453783\n",
      "iter# 8  Lnew: -3063.880507363282\n",
      "Model Converged\n"
     ]
    },
    {
     "data": {
      "image/png": "[encoded data removed]",
      "text/plain": [
       "<Figure size 432x288 with 1 Axes>"
      ]
     },
     "metadata": {
      "needs_background": "light"
     },
     "output_type": "display_data"
    },
    {
     "data": {
      "image/png": "[encoded data removed]",
      "text/plain": [
       "<Figure size 432x288 with 1 Axes>"
      ]
     },
     "metadata": {
      "needs_background": "light"
     },
     "output_type": "display_data"
    },
    {
     "name": "stdout",
     "output_type": "stream",
     "text": [
      "Sigma\n",
      "[[1.10149558 0.08928569]\n",
      " [0.08928569 3.92631812]]\n",
      "[[ 1.06624056 -0.0133382 ]\n",
      " [-0.0133382   1.01271934]]\n",
      "[[3.15249498 3.27072097]\n",
      " [3.27072097 4.72737612]]\n",
      "Mu\n",
      "[ 0.04398368 -0.05693145]\n",
      "[8.03186722 4.02421424]\n",
      "[16.09020044 16.02175563]\n",
      "W\n",
      "0.21428591081672144\n",
      "0.35714044319674254\n",
      "0.4285736459865356\n"
     ]
    }
   ],
   "source": [
    "for m in [2,3]:\n",
    "    print(\"====== m = %d ======\"%(m))\n",
    "    Sigma = np.zeros((m,2,2))\n",
    "    for i in range(m):\n",
    "        Sigma[i] = (genSigma())\n",
    "\n",
    "    Mu = genMu(m)    \n",
    "    W = np.asarray([1.]*m)\n",
    "    W = W/sum(W)\n",
    "    L = -float('inf')\n",
    "\n",
    "    iteration = 0\n",
    "    iters = []\n",
    "    Log = []\n",
    "    while True:\n",
    "        if iteration >=100:\n",
    "            break\n",
    "        iteration+=1\n",
    "        wN = np.zeros((n,m))\n",
    "        for j in range(m):\n",
    "            for i in range(n):\n",
    "                wN[i,j]=W[j]*gauss(X[i],Sigma[j],Mu[j])\n",
    "\n",
    "        sum_wN = np.sum(wN,axis=1)\n",
    "        Lnew = np.sum(np.log(sum_wN))\n",
    "        if (Lnew-L) < 0.00001:\n",
    "            print(\"Model Converged\")\n",
    "            break\n",
    "        L = Lnew\n",
    "\n",
    "        print(\"iter#\",iteration,\" Lnew:\",Lnew)\n",
    "        iters.append(iteration)\n",
    "        Log.append(Lnew)\n",
    "\n",
    "        eta = np.zeros((n,m))\n",
    "        for i in range(n):\n",
    "            eta[i,:]=wN[i]/sum_wN[i]\n",
    "\n",
    "        sum_eta = np.sum(eta,axis=0)\n",
    "        W = sum_eta/n\n",
    "\n",
    "        for j in range(m):\n",
    "            tmp = np.zeros((2,))\n",
    "            for i in range(n):\n",
    "                tmp += eta[i,j]*X[i]\n",
    "            Mu[j]=tmp/sum_eta[j]\n",
    "\n",
    "        for j in range(m):\n",
    "            tmp = np.zeros((2,2))\n",
    "            for i in range(n):\n",
    "                xmu = (X[i]-Mu[j]).reshape(2,1)\n",
    "                tmp1 = np.dot(xmu,xmu.T)*eta[i][j]\n",
    "                tmp += tmp1\n",
    "            Sigma[j]=tmp/sum_eta[j]\n",
    "\n",
    "\n",
    "    plt.plot(iters,Log)\n",
    "    plt.title(\"Log-likelihood\")\n",
    "    plt.xticks(range(1,min(20,iteration)))\n",
    "    plt.show()\n",
    "    \n",
    "    plt.scatter(x[0][:,0],x[0][:,1],c='green')\n",
    "    plt.scatter(x[1][:,0],x[1][:,1],c='red')\n",
    "    plt.scatter(x[2][:,0],x[2][:,1],c='blue')\n",
    "\n",
    "    for i in range(m):\n",
    "        plot_countour(sigma=Sigma[i], mu=Mu[i])\n",
    "\n",
    "    plt.title(\"Estimate\")\n",
    "    plt.show()\n",
    "\n",
    "\n",
    "    print(\"Sigma\")\n",
    "    for i in range(m):\n",
    "        print(Sigma[i])\n",
    "\n",
    "    print(\"Mu\")\n",
    "    for i in range(m):\n",
    "        print(Mu[i])\n",
    "\n",
    "    print(\"W\")\n",
    "    for i in range(m):\n",
    "        print(W[i])"
   ]
  },
  {
   "cell_type": "markdown",
   "metadata": {},
   "source": [
    "# Cross Validation"
   ]
  },
  {
   "cell_type": "code",
   "execution_count": 10,
   "metadata": {},
   "outputs": [],
   "source": [
    "idx = list(range(len(X)))\n",
    "random.shuffle(idx)\n",
    "ng = 5\n",
    "nxg = len(idx)//ng\n",
    "idx_group = []\n",
    "ij = 0\n",
    "for i in range(ng):\n",
    "    tmp = []\n",
    "    for j in range(nxg):\n",
    "        tmp.append(idx[ij])\n",
    "        ij+=1\n",
    "    idx_group.append(tmp)"
   ]
  },
  {
   "cell_type": "code",
   "execution_count": 11,
   "metadata": {
    "scrolled": true
   },
   "outputs": [
    {
     "name": "stdout",
     "output_type": "stream",
     "text": [
      "======= m = 2 =======\n",
      "------ eidx= 0 \n",
      "Model Converged at iter# 4\n",
      "------ eidx= 1 \n",
      "Model Converged at iter# 5\n",
      "------ eidx= 2 \n",
      "Model Converged at iter# 6\n",
      "------ eidx= 3 \n",
      "Model Converged at iter# 4\n",
      "------ eidx= 4 \n",
      "Model Converged at iter# 4\n",
      "mean of Log-likelihood: -716.0262676143013\n",
      "======= m = 3 =======\n",
      "------ eidx= 0 \n",
      "Model Converged at iter# 9\n",
      "------ eidx= 1 \n",
      "Model Converged at iter# 6\n",
      "------ eidx= 2 \n",
      "Model Converged at iter# 9\n",
      "------ eidx= 3 \n",
      "Model Converged at iter# 9\n",
      "------ eidx= 4 \n",
      "Model Converged at iter# 8\n",
      "mean of Log-likelihood: -644.8188623823331\n",
      "======= m = 4 =======\n",
      "------ eidx= 0 \n",
      "#break at iter# 99\n",
      "------ eidx= 1 \n",
      "#break at iter# 99\n",
      "------ eidx= 2 \n",
      "#break at iter# 99\n",
      "------ eidx= 3 \n",
      "#break at iter# 99\n",
      "------ eidx= 4 \n",
      "#break at iter# 99\n",
      "mean of Log-likelihood: -646.9118776069208\n",
      "======= m = 5 =======\n",
      "------ eidx= 0 \n",
      "Model Converged at iter# 82\n",
      "------ eidx= 1 \n",
      "Model Converged at iter# 72\n",
      "------ eidx= 2 \n",
      "#break at iter# 99\n",
      "------ eidx= 3 \n",
      "Model Converged at iter# 87\n",
      "------ eidx= 4 \n",
      "#break at iter# 99\n",
      "mean of Log-likelihood: -646.6056864847606\n"
     ]
    }
   ],
   "source": [
    "all_log = []\n",
    "for m in [2,3,4,5]:\n",
    "    print(\"======= m = %d =======\"%(m))\n",
    "    test_log = []\n",
    "\n",
    "    for eidx in range(ng):\n",
    "        idx_test = set(idx_group[0])\n",
    "        idx_train = set(idx).difference(idx_test)\n",
    "        #print(len(idx_train))\n",
    "        #print(len(idx_test))\n",
    "        X_train = np.zeros((nxg*(ng-1),2))\n",
    "        X_test = np.zeros((nxg,2))\n",
    "        j=0\n",
    "        for i in idx_train:\n",
    "            X_train[j]=X[i]\n",
    "            j+=1\n",
    "        j=0\n",
    "        for i in idx_test:\n",
    "            X_test[j]=X[i]\n",
    "            j+=1\n",
    "\n",
    "        print(\"------ eidx= %d \"%(eidx))\n",
    "        Sigma = np.zeros((m,2,2))\n",
    "        for i in range(m):\n",
    "            Sigma[i] = (genSigma())\n",
    "\n",
    "        Mu = genMu(m)    \n",
    "        W = np.asarray([1.]*m)\n",
    "        W = W/sum(W)\n",
    "        L = -float('inf')\n",
    "\n",
    "        iteration = 0\n",
    "        iters = []\n",
    "        Log = []\n",
    "        while True:\n",
    "            #print(\"iter#\",iteration,\" Lnew:\",Lnew)\n",
    "            #if (iteration%50==0):\n",
    "                #print(\"#iteration%d\"%(iteration))\n",
    "            if (iteration>=100):\n",
    "                print(\"#break at iter#\",iteration-1)\n",
    "                break\n",
    "            iteration+=1\n",
    "            wN = np.zeros((len(X_train),m))\n",
    "            for j in range(m):\n",
    "                for i in range(len(X_train)):\n",
    "                    wN[i,j]=W[j]*gauss(X_train[i],Sigma[j],Mu[j])\n",
    "\n",
    "            sum_wN = np.sum(wN,axis=1)\n",
    "            Lnew = np.sum(np.log(sum_wN))\n",
    "            if (Lnew-L) < 0.0001:\n",
    "                print(\"Model Converged at iter#\",iteration-1)\n",
    "                break\n",
    "            L = Lnew\n",
    "\n",
    "            iters.append(iteration)\n",
    "            Log.append(Lnew)\n",
    "\n",
    "            eta = np.zeros((len(X_train),m))\n",
    "            for i in range(len(X_train)):\n",
    "                eta[i,:]=wN[i]/sum_wN[i]\n",
    "\n",
    "            sum_eta = np.sum(eta,axis=0)\n",
    "            W = sum_eta/n\n",
    "\n",
    "            for j in range(m):\n",
    "                tmp = np.zeros((2,))\n",
    "                for i in range(len(X_train)):\n",
    "                    tmp += eta[i,j]*X_train[i]\n",
    "                Mu[j]=tmp/sum_eta[j]\n",
    "\n",
    "            for j in range(m):\n",
    "                tmp = np.zeros((2,2))\n",
    "                for i in range(len(X_train)):\n",
    "                    xmu = (X_train[i]-Mu[j]).reshape(2,1)\n",
    "                    tmp1 = np.dot(xmu,xmu.T)*eta[i][j]\n",
    "                    tmp += tmp1\n",
    "                Sigma[j]=tmp/sum_eta[j]\n",
    "            #print(\"Sigma\")\n",
    "            #for i in range(m):\n",
    "                #print(Sigma[i])\n",
    "\n",
    "        wN_test = np.zeros((len(X_test),m))\n",
    "        for j in range(m):\n",
    "            for i in range(len(X_test)):\n",
    "                wN_test[i,j]=W[j]*gauss(X_test[i],Sigma[j],Mu[j])\n",
    "\n",
    "        sum_wN_test = np.sum(wN_test,axis=1)\n",
    "        Ltest = np.sum(np.log(sum_wN_test))\n",
    "        test_log.append(Ltest)\n",
    "    mean_log = np.mean(test_log)\n",
    "    print(\"mean of Log-likelihood:\", mean_log)\n",
    "    all_log.append(mean_log)"
   ]
  },
  {
   "cell_type": "code",
   "execution_count": null,
   "metadata": {},
   "outputs": [],
   "source": []
  }
 ],
 "metadata": {
  "kernelspec": {
   "display_name": "Python 3",
   "language": "python",
   "name": "python3"
  },
  "language_info": {
   "codemirror_mode": {
    "name": "ipython",
    "version": 3
   },
   "file_extension": ".py",
   "mimetype": "text/x-python",
   "name": "python",
   "nbconvert_exporter": "python",
   "pygments_lexer": "ipython3",
   "version": "3.7.4"
  }
 },
 "nbformat": 4,
 "nbformat_minor": 2
}
