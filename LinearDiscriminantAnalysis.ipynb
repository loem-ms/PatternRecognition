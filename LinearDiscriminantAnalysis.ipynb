{
 "cells": [
  {
   "cell_type": "code",
   "execution_count": 1,
   "metadata": {},
   "outputs": [],
   "source": [
    "from PIL import Image, ImageOps\n",
    "import os, sys, shutil\n",
    "import numpy as np\n",
    "import pandas as pd\n",
    "from sklearn.model_selection import train_test_split\n",
    "import matplotlib.pyplot as plt \n",
    "%matplotlib inline"
   ]
  },
  {
   "cell_type": "code",
   "execution_count": 2,
   "metadata": {},
   "outputs": [],
   "source": [
    "def process_image(nD,dirs,path,newpath):\n",
    "    for item in dirs:\n",
    "        if os.path.isfile(path+item):\n",
    "            im = Image.open(path+item).convert('RGB')\n",
    "            f, e = os.path.splitext(path+item)\n",
    "            imResize = im.resize((nD,nD), Image.ANTIALIAS)\n",
    "            im_invert = ImageOps.invert(imResize)\n",
    "            for i in range(0,30,2):\n",
    "                im_rot = im_invert.rotate(-i)\n",
    "                im_rot_w = im_invert.rotate(i)\n",
    "                im_rot.save((newpath+item) +str(i)+ ' rotated.png', 'png', quality=90)\n",
    "                im_rot_w.save((newpath+item) +str(i)+ ' rotated_w.png', 'png', quality=90)\n",
    "                \n",
    "def make_dataset(nD):\n",
    "    dirs = os.listdir(\"dataset/\")\n",
    "    for i in range(0,10):\n",
    "        if str(i) in dirs:\n",
    "            shutil.rmtree(\"dataset/\"+str(i))\n",
    "    for i in range(0,10):\n",
    "        path = \"dataset_original/\"+str(i)+\"/\"\n",
    "        newpath = \"dataset/\"+str(i)+\"/\"\n",
    "        os.makedirs(newpath)\n",
    "        dirs = os.listdir( path )\n",
    "        if \".DS_Store\" in dirs:\n",
    "            dirs.remove(\".DS_Store\")\n",
    "        process_image(nD,dirs,path,newpath)"
   ]
  },
  {
   "cell_type": "code",
   "execution_count": 3,
   "metadata": {},
   "outputs": [
    {
     "name": "stdout",
     "output_type": "stream",
     "text": [
      "loading dataset...\n",
      "dataset loaded!\n"
     ]
    }
   ],
   "source": [
    "nD = 64  #number of image's dimension\n",
    "make_dataset(nD)\n",
    "print(\"loading dataset...\")\n",
    "data = []\n",
    "label = []\n",
    "data_fig = []\n",
    "root_path = 'dataset/'\n",
    "data_dir = range(0,10)\n",
    "for d in data_dir:\n",
    "    t = d\n",
    "    f_list = os.listdir(root_path+str(d)+'/')\n",
    "    if \".DS_Store\" in f_list:\n",
    "        f_list.remove(\".DS_Store\")\n",
    "    for f in f_list:\n",
    "        img = Image.open(root_path+str(d)+'/'+f).convert('L')\n",
    "        img_array = np.asarray(img)\n",
    "        data.append(img_array)\n",
    "        data_fig.append(img)\n",
    "        label.append(t)\n",
    "        \n",
    "data = np.array(data)/255.\n",
    "data = data.reshape(data.shape[0],-1)\n",
    "label = np.array(label)\n",
    "X = data\n",
    "y = label\n",
    "X_train, X_test, y_train, y_test = train_test_split(X, y, test_size=0.2)\n",
    "means = np.zeros((10, nD*nD))\n",
    "cov = np.zeros((nD*nD, nD*nD))\n",
    "print(\"dataset loaded!\")"
   ]
  },
  {
   "cell_type": "code",
   "execution_count": 4,
   "metadata": {},
   "outputs": [
    {
     "data": {
      "image/png": "[encoded data removed]",
      "text/plain": [
       "<PIL.Image.Image image mode=L size=64x64 at 0x7FB1C6A54AD0>"
      ]
     },
     "execution_count": 4,
     "metadata": {},
     "output_type": "execute_result"
    }
   ],
   "source": [
    "data_fig[543]"
   ]
  },
  {
   "cell_type": "code",
   "execution_count": 5,
   "metadata": {},
   "outputs": [
    {
     "name": "stdout",
     "output_type": "stream",
     "text": [
      "9\n"
     ]
    },
    {
     "data": {
      "image/png": "[encoded data removed]",
      "text/plain": [
       "<Figure size 432x288 with 1 Axes>"
      ]
     },
     "metadata": {
      "needs_background": "light"
     },
     "output_type": "display_data"
    }
   ],
   "source": [
    "def vec2img(vec):\n",
    "    vec = vec*255.\n",
    "    vec = vec.reshape(nD,nD)\n",
    "    return vec\n",
    "\n",
    "test = vec2img(X_train[0])\n",
    "\n",
    "plt.imshow(test)\n",
    "print(y_train[0])"
   ]
  },
  {
   "cell_type": "code",
   "execution_count": 6,
   "metadata": {},
   "outputs": [
    {
     "name": "stdout",
     "output_type": "stream",
     "text": [
      "--- 21.8038649559021 seconds ---\n"
     ]
    }
   ],
   "source": [
    "import time\n",
    "means = np.zeros((10, nD*nD))\n",
    "cov = np.zeros((nD*nD, nD*nD))\n",
    "count = [sum(map(lambda x : x == i, y_train)) for i in range(0,10)]\n",
    "start_time = time.time()\n",
    "for i in range(10):\n",
    "    cov_array = []\n",
    "    for j in range(len(y_train)):\n",
    "        if int(y_train[j]) == i:\n",
    "            means[i] = means[i] + X_train[j]\n",
    "            cov_array.append(X_train[j])\n",
    "            \n",
    "    cov = cov + np.cov(np.array(cov_array).T) * (1/10.)\n",
    "\n",
    "means = means / len(y_train)\n",
    "inv_cov = np.linalg.inv(cov + 0.00001*np.eye(nD*nD))\n",
    "print(\"--- %s seconds ---\" % (time.time() - start_time))"
   ]
  },
  {
   "cell_type": "code",
   "execution_count": 7,
   "metadata": {},
   "outputs": [
    {
     "name": "stdout",
     "output_type": "stream",
     "text": [
      "    0   1   2   3   4   5   6   7   8   9\n",
      "0  29   0   0   0   0   0   0   0   0   0\n",
      "1   0  30   0   0   0   0   0   0   0   0\n",
      "2   0   0  40   0   0   0   0   0   0   0\n",
      "3   0   0   0  31   0   0   0   0   0   0\n",
      "4   0   0   0   0  20   0   0   0   0   0\n",
      "5   0   0   0   0   0  23   0   0   0   0\n",
      "6   0   0   0   0   0   0  28   0   0   0\n",
      "7   0   0   0   0   0   0   0  26   0   0\n",
      "8   0   0   0   0   0   0   0   0  34   0\n",
      "9   0   0   0   0   0   0   0   0   0  39\n"
     ]
    }
   ],
   "source": [
    "ans = np.zeros((10, 10),dtype='int')\n",
    "total = 0\n",
    "errors = []\n",
    "\n",
    "for i in range(10):\n",
    "    for j in range(len(y_test)):\n",
    "        if int(y_test[j]) == i:\n",
    "            p = np.zeros(10)\n",
    "            for k in range(len(p)):\n",
    "                p[k] = np.dot(np.dot(means[k].T, inv_cov), X_test[j]) - (np.dot(np.dot(means[k].T, inv_cov), means[k])) / 2 + np.log(count[i])\n",
    "\n",
    "            m = p.argmax()\n",
    "            if m!=y_test[j]:\n",
    "                errors.append((j,m))\n",
    "            ans[m][int(y_test[j])] = int(ans[m][int(y_test[j])] + 1)\n",
    "\n",
    "df = pd.DataFrame({'0': ans[0], '1': ans[1], '2': ans[2], '3': ans[3], '4': ans[4], '5': ans[5], '6': ans[6], '7': ans[7], '8': ans[8], '9': ans[9]},index=['0', '1', '2', '3', '4', '5', '6', '7', '8', '9'])\n",
    "df.style.background_gradient(cmap='winter')\n",
    "\n",
    "print(df)"
   ]
  },
  {
   "cell_type": "code",
   "execution_count": 8,
   "metadata": {},
   "outputs": [
    {
     "name": "stdout",
     "output_type": "stream",
     "text": [
      "[]\n",
      "100.0\n"
     ]
    }
   ],
   "source": [
    "print(errors)\n",
    "print(100-len(errors)/len(y_test)*100)"
   ]
  },
  {
   "cell_type": "code",
   "execution_count": 9,
   "metadata": {},
   "outputs": [],
   "source": [
    "for i in errors:\n",
    "    print(y_test[i[0]])\n",
    "    print(i[1])\n",
    "    plt.imshow(vec2img(X_test[i[0]]))\n",
    "    plt.show()"
   ]
  },
  {
   "cell_type": "code",
   "execution_count": 10,
   "metadata": {},
   "outputs": [
    {
     "name": "stdout",
     "output_type": "stream",
     "text": [
      "300 1200\n"
     ]
    }
   ],
   "source": [
    "print(len(y_test),len(y_train))"
   ]
  },
  {
   "cell_type": "code",
   "execution_count": null,
   "metadata": {},
   "outputs": [],
   "source": []
  }
 ],
 "metadata": {
  "kernelspec": {
   "display_name": "Python 3",
   "language": "python",
   "name": "python3"
  },
  "language_info": {
   "codemirror_mode": {
    "name": "ipython",
    "version": 3
   },
   "file_extension": ".py",
   "mimetype": "text/x-python",
   "name": "python",
   "nbconvert_exporter": "python",
   "pygments_lexer": "ipython3",
   "version": "3.7.4"
  }
 },
 "nbformat": 4,
 "nbformat_minor": 2
}
