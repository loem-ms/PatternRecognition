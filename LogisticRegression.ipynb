{
 "cells": [
  {
   "cell_type": "markdown",
   "metadata": {},
   "source": [
    "### Load Data"
   ]
  },
  {
   "cell_type": "code",
   "execution_count": 1,
   "metadata": {},
   "outputs": [
    {
     "name": "stderr",
     "output_type": "stream",
     "text": [
      "Using TensorFlow backend.\n"
     ]
    }
   ],
   "source": [
    "import numpy as np\n",
    "import random\n",
    "from scipy.io import loadmat\n",
    "from scipy.special import softmax\n",
    "from keras.utils import np_utils\n",
    "\n",
    "data = loadmat('digit.mat')\n",
    "#print(data.keys())\n",
    "X = data['X']\n",
    "T = data['T']\n",
    "#print(X.shape)\n",
    "D,NX,C = X.shape\n",
    "#print(T.shape)\n",
    "_,NT,_ = T.shape"
   ]
  },
  {
   "cell_type": "markdown",
   "metadata": {},
   "source": [
    "### Preprocess Data"
   ]
  },
  {
   "cell_type": "code",
   "execution_count": 2,
   "metadata": {},
   "outputs": [],
   "source": [
    "popu = [i for i in range(5000)]\n",
    "random.shuffle(popu)\n",
    "X_train = np.zeros((5000,256))\n",
    "Y_train = np.zeros((5000))\n",
    "X_test = np.zeros((2000,256))\n",
    "Y_test = np.zeros((2000))\n",
    "idx = 0\n",
    "for i in popu:\n",
    "    c = int(i/500)\n",
    "    c_idx = int(i%500)\n",
    "    X_train[idx,:]=X[:,c_idx,c]\n",
    "    Y_train[idx]=c\n",
    "    idx = idx+1\n",
    "    \n",
    "idx = 0\n",
    "for i in range(10):\n",
    "    for j in range(200):\n",
    "        X_test[idx,:]=T[:,j,i]\n",
    "        Y_test[idx]=i\n",
    "        idx = idx+1\n",
    "\n",
    "y_train = np_utils.to_categorical(Y_train,C)\n",
    "y_test = np_utils.to_categorical(Y_test,C)"
   ]
  },
  {
   "cell_type": "code",
   "execution_count": 3,
   "metadata": {},
   "outputs": [
    {
     "name": "stdout",
     "output_type": "stream",
     "text": [
      "8\n"
     ]
    },
    {
     "data": {
      "image/png": "[encoded data removed]",
      "text/plain": [
       "<Figure size 432x288 with 1 Axes>"
      ]
     },
     "metadata": {
      "needs_background": "light"
     },
     "output_type": "display_data"
    },
    {
     "name": "stdout",
     "output_type": "stream",
     "text": [
      "5\n"
     ]
    },
    {
     "data": {
      "image/png": "[encoded data removed]",
      "text/plain": [
       "<Figure size 432x288 with 1 Axes>"
      ]
     },
     "metadata": {
      "needs_background": "light"
     },
     "output_type": "display_data"
    }
   ],
   "source": [
    "from matplotlib import pyplot as plt\n",
    "%matplotlib inline\n",
    "print(int((Y_train[4800]+1)%10))\n",
    "plt.imshow(X_train[4800].reshape(16,16), interpolation='nearest')\n",
    "plt.show()\n",
    "print(int((Y_test[800]+1)%10))\n",
    "plt.imshow(X_test[800].reshape(16,16), interpolation='nearest')\n",
    "plt.show()"
   ]
  },
  {
   "cell_type": "markdown",
   "metadata": {},
   "source": [
    "### Logistic Regression Model "
   ]
  },
  {
   "cell_type": "code",
   "execution_count": 4,
   "metadata": {},
   "outputs": [],
   "source": [
    "class LogisticRegression(object):\n",
    "    \"\"\"logistic regression classifier with gradient ascent learning method\n",
    "    \"\"\"\n",
    "    def __init__(self, lr=0.01, iteration=100, C=10):\n",
    "        self.lr = lr\n",
    "        self.iteration=iteration\n",
    "        self.C = C\n",
    "    \n",
    "    def fit(self, x, y):\n",
    "        self.w = np.zeros((self.C,1+x.shape[1]))\n",
    "        for i in range(self.C):\n",
    "            self.w[i,:] = np.random.normal(loc=0.0, scale=0.01, size=1+x.shape[1])\n",
    "        #self.energy = []\n",
    "        \n",
    "        for i in range(self.iteration):\n",
    "            inp = self.getInput(x)\n",
    "            out = self.getOutput(inp)\n",
    "            error = y-out\n",
    "            self.w[:,1:] += self.lr*np.dot(error.T,x)\n",
    "            self.w[:,0] += self.lr*np.sum(error)\n",
    "        return self\n",
    "    \n",
    "    def softmax(self, a):\n",
    "        out = softmax(a,axis=1)\n",
    "        return out\n",
    "    \n",
    "    def getInput(self, x):\n",
    "        out = np.dot(x, self.w[:,1:].T)+self.w[:,0]\n",
    "        return out\n",
    "    \n",
    "    def getOutput(self, a):\n",
    "        return self.softmax(a)\n",
    "    \n",
    "    def predict(self,x):\n",
    "        return self.getInput(x)"
   ]
  },
  {
   "cell_type": "markdown",
   "metadata": {},
   "source": [
    "### Training"
   ]
  },
  {
   "cell_type": "code",
   "execution_count": 5,
   "metadata": {},
   "outputs": [
    {
     "data": {
      "text/plain": [
       "<__main__.LogisticRegression at 0x7fda9304ab50>"
      ]
     },
     "execution_count": 5,
     "metadata": {},
     "output_type": "execute_result"
    }
   ],
   "source": [
    "lrgd = LogisticRegression(lr=0.0001, iteration=3000, C=10)\n",
    "lrgd.fit(X_train,y_train)"
   ]
  },
  {
   "cell_type": "markdown",
   "metadata": {},
   "source": [
    "### Evaluation"
   ]
  },
  {
   "cell_type": "code",
   "execution_count": 6,
   "metadata": {},
   "outputs": [
    {
     "name": "stdout",
     "output_type": "stream",
     "text": [
      "[0 0 0 ... 9 9 9]\n",
      "Class Errors:\n",
      " [0.005, 0.07, 0.045, 0.07, 0.115, 0.04, 0.075, 0.11, 0.05, 0.035]\n",
      "Confusion Matrix:\n",
      " [[199.   0.   0.   0.   1.   0.   0.   0.   0.   0.]\n",
      " [  0. 186.   0.   8.   0.   0.   1.   4.   1.   0.]\n",
      " [  0.   1. 191.   0.   4.   0.   2.   2.   0.   0.]\n",
      " [  1.   1.   0. 186.   1.   2.   0.   2.   7.   0.]\n",
      " [  0.   0.  11.   3. 177.   1.   1.   0.   3.   4.]\n",
      " [  0.   1.   0.   2.   1. 192.   0.   2.   0.   2.]\n",
      " [  0.   1.   3.   2.   0.   0. 185.   1.   8.   0.]\n",
      " [  0.   2.   6.   1.   7.   0.   0. 178.   2.   4.]\n",
      " [  2.   0.   0.   2.   0.   0.   3.   3. 190.   0.]\n",
      " [  0.   1.   0.   0.   4.   1.   0.   1.   0. 193.]]\n",
      "Error Rate:  0.06150000000000001\n",
      "Accuracy  :  0.9385\n"
     ]
    }
   ],
   "source": [
    "result = np.argmax(lrgd.predict(X_test),axis=1)\n",
    "print(result)\n",
    "confusion = np.zeros((C,C))\n",
    "for i in range(C):\n",
    "    for j in range(C):\n",
    "        confusion[i,j] = np.sum(np.array([1 for k in result[i*200:(i+1)*200] if k==j]))\n",
    "errors = []\n",
    "TFs = np.zeros((C,3))\n",
    "for i in range(C):\n",
    "    fn = 0\n",
    "    fp = 0\n",
    "    for j in range(C):\n",
    "        if j!=i:\n",
    "            fn = fn + confusion[i][j]\n",
    "            fp = fp + confusion[j][i]\n",
    "    #print(s)\n",
    "    TFs[i,0] = confusion[i,i]\n",
    "    TFs[i,1] = fn\n",
    "    TFs[i,2] = fp\n",
    "    fn = fn/np.sum(confusion,axis=1)[i]\n",
    "    errors.append(fn)\n",
    "print(\"Class Errors:\\n\",errors)\n",
    "print(\"Confusion Matrix:\\n\",confusion)\n",
    "print(\"Error Rate: \",np.mean(errors))\n",
    "print(\"Accuracy  : \",np.sum([[confusion[i][i] for i in range(C)]])/(NT*C))"
   ]
  },
  {
   "cell_type": "markdown",
   "metadata": {},
   "source": [
    "### Comparison with Fisher's Linear Discriminant Analysis "
   ]
  },
  {
   "cell_type": "code",
   "execution_count": 7,
   "metadata": {},
   "outputs": [
    {
     "name": "stdout",
     "output_type": "stream",
     "text": [
      "Confusion Matrix:\n",
      " [[199.   0.   0.   0.   1.   0.   0.   0.   0.   0.]\n",
      " [  0. 169.   8.   8.   1.   2.   4.   8.   0.   0.]\n",
      " [  0.   0. 182.   1.   5.   0.   2.   8.   1.   1.]\n",
      " [  2.   2.   0. 182.   0.   1.   0.   3.  10.   0.]\n",
      " [  0.   0.  21.   4. 162.   1.   0.   4.   4.   4.]\n",
      " [  1.   2.   0.   1.   5. 185.   0.   3.   0.   3.]\n",
      " [  2.   0.   1.   5.   1.   0. 181.   0.   9.   1.]\n",
      " [  0.   1.  16.   6.   6.   0.   1. 164.   3.   3.]\n",
      " [  1.   0.   0.   8.   0.   0.   7.   2. 182.   0.]\n",
      " [  0.   0.   3.   0.   0.   4.   0.   1.   0. 192.]]\n",
      "Error Rate:  0.101\n",
      "Accuracy  :  0.899\n",
      "=====Class # 1 ======\n",
      "Errors    =  0.005\n",
      "Recall    =  0.995\n",
      "Precision =  0.9707317073170731\n",
      "=====Class # 2 ======\n",
      "Errors    =  0.155\n",
      "Recall    =  0.845\n",
      "Precision =  0.9712643678160919\n",
      "=====Class # 3 ======\n",
      "Errors    =  0.09\n",
      "Recall    =  0.91\n",
      "Precision =  0.7878787878787878\n",
      "=====Class # 4 ======\n",
      "Errors    =  0.09\n",
      "Recall    =  0.91\n",
      "Precision =  0.8465116279069768\n",
      "=====Class # 5 ======\n",
      "Errors    =  0.19\n",
      "Recall    =  0.81\n",
      "Precision =  0.8950276243093923\n",
      "=====Class # 6 ======\n",
      "Errors    =  0.075\n",
      "Recall    =  0.925\n",
      "Precision =  0.9585492227979274\n",
      "=====Class # 7 ======\n",
      "Errors    =  0.095\n",
      "Recall    =  0.905\n",
      "Precision =  0.9282051282051282\n",
      "=====Class # 8 ======\n",
      "Errors    =  0.18\n",
      "Recall    =  0.82\n",
      "Precision =  0.8497409326424871\n",
      "=====Class # 9 ======\n",
      "Errors    =  0.09\n",
      "Recall    =  0.91\n",
      "Precision =  0.8708133971291866\n",
      "=====Class # 0 ======\n",
      "Errors    =  0.04\n",
      "Recall    =  0.96\n",
      "Precision =  0.9411764705882353\n"
     ]
    }
   ],
   "source": [
    "from scipy.io import loadmat\n",
    "import numpy as np\n",
    "\n",
    "data = loadmat('digit.mat')\n",
    "#print(data.keys())\n",
    "X = data['X']\n",
    "T = data['T']\n",
    "#print(X.shape)\n",
    "D,NX,C = X.shape\n",
    "#print(T.shape)\n",
    "_,NT,_ = T.shape\n",
    "\n",
    "mean = np.zeros((D,C))\n",
    "cov = np.zeros((D, D))\n",
    "\n",
    "for i in range(C):\n",
    "    mean[:,i] = np.mean(X[:,:,i],1)\n",
    "    cov = cov + np.cov(X[:,:,i])/C\n",
    "\n",
    "invS = np.linalg.pinv(cov)\n",
    "\n",
    "p = np.zeros((C,NT,C))\n",
    "for i in range(C):\n",
    "    t = T[:,:,i]\n",
    "    for j in range(C):\n",
    "        m = mean[:,j]\n",
    "        p[i,:,j] = np.dot(t.T,np.dot(invS,m)) - np.dot(m.T,np.dot(invS,m))/2.\n",
    "\n",
    "P = np.argmax(p,axis=2)\n",
    "confusion = np.zeros((C,C))\n",
    "for i in range(C):\n",
    "    for j in range(C):\n",
    "        confusion[i,j] = np.sum(np.array([1 for k in P[i,:] if k==j]))\n",
    "\n",
    "errors = []\n",
    "TFs = np.zeros((C,3))\n",
    "for i in range(C):\n",
    "    fn = 0\n",
    "    fp = 0\n",
    "    for j in range(C):\n",
    "        if j!=i:\n",
    "            fn = fn + confusion[i][j]\n",
    "            fp = fp + confusion[j][i]\n",
    "    #print(s)\n",
    "    TFs[i,0] = confusion[i,i]\n",
    "    TFs[i,1] = fn\n",
    "    TFs[i,2] = fp\n",
    "    fn = fn/np.sum(confusion,axis=1)[i]\n",
    "    errors.append(fn)\n",
    "\n",
    "print(\"Confusion Matrix:\\n\",confusion)\n",
    "print(\"Error Rate: \",np.mean(errors))\n",
    "print(\"Accuracy  : \",np.sum([[confusion[i][i] for i in range(C)]])/(NT*C))\n",
    "for i in range(C):\n",
    "    print(\"=====Class #\",((i+1)%10),\"======\")\n",
    "    print(\"Errors    = \",(errors[i]))\n",
    "    print(\"Recall    = \",(TFs[i,0]/(TFs[i,0]+TFs[i,1])))\n",
    "    print(\"Precision = \",(TFs[i,0]/(TFs[i,0]+TFs[i,2])))"
   ]
  }
 ],
 "metadata": {
  "kernelspec": {
   "display_name": "Python 3",
   "language": "python",
   "name": "python3"
  },
  "language_info": {
   "codemirror_mode": {
    "name": "ipython",
    "version": 3
   },
   "file_extension": ".py",
   "mimetype": "text/x-python",
   "name": "python",
   "nbconvert_exporter": "python",
   "pygments_lexer": "ipython3",
   "version": "3.7.4"
  }
 },
 "nbformat": 4,
 "nbformat_minor": 2
}
